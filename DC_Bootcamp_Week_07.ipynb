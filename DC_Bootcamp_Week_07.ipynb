{
  "cells": [
    {
      "cell_type": "markdown",
      "metadata": {
        "id": "NpPlK3f9VIJg"
      },
      "source": [
        "# Pandas: Transforming Data"
      ]
    },
    {
      "cell_type": "markdown",
      "metadata": {
        "id": "f-zwrcLqNZ4L"
      },
      "source": [
        "---"
      ]
    },
    {
      "cell_type": "markdown",
      "metadata": {
        "id": "gN2RFGn3VIJi"
      },
      "source": [
        "## Run The Following Code\n",
        "Hit SHIFT + ENTER when your cusor is inside the cell of code.<br/>"
      ]
    },
    {
      "cell_type": "markdown",
      "source": [
        "## Download Required Data\n",
        "**The code below here are to downlod the data required for this Weekly Tasks. Don't worry about knowing how to code out this part.**"
      ],
      "metadata": {
        "id": "GpSsbTirN5LL"
      }
    },
    {
      "cell_type": "code",
      "source": [
        "!pip install wget"
      ],
      "metadata": {
        "id": "fgBMsF6LN75k"
      },
      "execution_count": null,
      "outputs": []
    },
    {
      "cell_type": "code",
      "source": [
        "import wget\n",
        "wget.download('https://d17lzt44idt8rf.cloudfront.net/data-week-07.zip')\n",
        "!unzip data-week-07.zip -d ."
      ],
      "metadata": {
        "id": "PCcSlVrzN7cR"
      },
      "execution_count": null,
      "outputs": []
    },
    {
      "cell_type": "markdown",
      "metadata": {
        "id": "dg1hBaA7VIJl"
      },
      "source": [
        "## Importing and Checking the Data"
      ]
    },
    {
      "cell_type": "markdown",
      "metadata": {
        "id": "3fskFP6UVIJo"
      },
      "source": [
        "> Importing pandas"
      ]
    },
    {
      "cell_type": "code",
      "execution_count": null,
      "metadata": {
        "id": "GChe2i8UVIJo"
      },
      "outputs": [],
      "source": [
        "import pandas as pd"
      ]
    },
    {
      "cell_type": "markdown",
      "metadata": {
        "id": "gctnxHQEVIJo"
      },
      "source": [
        "> Read the data from CSV file into a DataFrame"
      ]
    },
    {
      "cell_type": "code",
      "execution_count": null,
      "metadata": {
        "id": "1Wyy8PlXVIJp"
      },
      "outputs": [],
      "source": [
        "hdb = 'data/0_raw_data/hdb_resale_sample_raw.csv'\n",
        "\n",
        "df = pd.read_csv(hdb)"
      ]
    },
    {
      "cell_type": "markdown",
      "metadata": {
        "id": "8oNcfodGVIJq"
      },
      "source": [
        "> viewing the contents of the dataset"
      ]
    },
    {
      "cell_type": "markdown",
      "metadata": {
        "id": "ZOuZgKMFNZ4N"
      },
      "source": [
        "The main dataset that we will work on is on HDB resale data.<br/>\n",
        "See the description below for the fields given. <br/>\n",
        "<br/>\n",
        "<table>\n",
        "    <tr><th>Field</th><th>Description</th></tr>\n",
        "    <tr><td>Trans_YearMonth</td><td>year-month (YYYY-MM) for transaction</td></tr>\n",
        "    <tr><td>town</td><td>town for the resale flat</td></tr>\n",
        "    <tr><td>flat_type</td><td>flat type for the resale flat</td></tr>\n",
        "    <tr><td>block</td><td>block for the resale flat</td></tr>\n",
        "    <tr><td>street_name</td><td>street for the resale flat</td></tr>\n",
        "    <tr><td>storey_range</td><td>storey range for the resale flat</td></tr>\n",
        "    <tr><td>floor_area_sqm</td><td>floor area in square meter</td></tr>\n",
        "    <tr><td>flat_model</td><td>model of resale flat</td></tr>\n",
        "    <tr><td>lease_commence_date</td><td>year of lease commencement</td></tr>\n",
        "    <tr><td>resale_price</td><td>price of the resale flat</td></tr>\n",
        "</table>"
      ]
    },
    {
      "cell_type": "code",
      "execution_count": null,
      "metadata": {
        "id": "U0zvy-YlNZ4N"
      },
      "outputs": [],
      "source": [
        "df.shape #num of rows and columns 15000 rows, 10 columns"
      ]
    },
    {
      "cell_type": "code",
      "execution_count": null,
      "metadata": {
        "id": "nB2DLyrQVIJq"
      },
      "outputs": [],
      "source": [
        "df.head() #first 5 rows of data"
      ]
    },
    {
      "cell_type": "markdown",
      "metadata": {
        "id": "bi6TKprZNZ4N"
      },
      "source": [
        "## Sorting Rows in DataFrame"
      ]
    },
    {
      "cell_type": "code",
      "execution_count": null,
      "metadata": {
        "id": "cyHzuwzbNZ4O"
      },
      "outputs": [],
      "source": [
        "df.sort_values('resale_price') #default ascending"
      ]
    },
    {
      "cell_type": "code",
      "execution_count": null,
      "metadata": {
        "id": "Tg1saNqCNZ4O"
      },
      "outputs": [],
      "source": [
        "df.sort_values('resale_price', ascending=False) #descending"
      ]
    },
    {
      "cell_type": "code",
      "execution_count": null,
      "metadata": {
        "id": "mmBkspbcNZ4O"
      },
      "outputs": [],
      "source": [
        "df.sort_values(['lease_commence_date', 'resale_price'], ascending=False) #descending by 2 columns"
      ]
    },
    {
      "cell_type": "code",
      "execution_count": null,
      "metadata": {
        "id": "5kgomeoNNZ4O"
      },
      "outputs": [],
      "source": [
        "df.sort_values(['lease_commence_date', 'resale_price'], ascending=[False,True]) #specify different orders by 2 columns"
      ]
    },
    {
      "cell_type": "markdown",
      "metadata": {
        "id": "DuGktVqKNZ4O"
      },
      "source": [
        "## Handling Missing & Dirty Values"
      ]
    },
    {
      "cell_type": "markdown",
      "metadata": {
        "id": "8tpihRUnNZ4O"
      },
      "source": [
        "> Dealing with null values and dirty data"
      ]
    },
    {
      "cell_type": "code",
      "execution_count": null,
      "metadata": {
        "id": "iiDCRcs0NZ4O"
      },
      "outputs": [],
      "source": [
        "df.info()"
      ]
    },
    {
      "cell_type": "markdown",
      "metadata": {
        "id": "kNAryZxtNZ4O"
      },
      "source": [
        "> remove null values"
      ]
    },
    {
      "cell_type": "code",
      "execution_count": null,
      "metadata": {
        "id": "2C74JNWjNZ4O"
      },
      "outputs": [],
      "source": [
        "# this does not store the result\n",
        "# we will need to assign the output to a variable or overwrite the current df\n",
        "# df = df.dropna()\n",
        "df.dropna()"
      ]
    },
    {
      "cell_type": "markdown",
      "metadata": {
        "id": "GTYNHsh-NZ4O"
      },
      "source": [
        "> update null values"
      ]
    },
    {
      "cell_type": "code",
      "execution_count": null,
      "metadata": {
        "id": "iiO-exjdNZ4O"
      },
      "outputs": [],
      "source": [
        "# This replace the missing values (NaN) with the string 'BEDOK'\n",
        "df['town'] = df['town'].fillna('BEDOK')"
      ]
    },
    {
      "cell_type": "code",
      "execution_count": null,
      "metadata": {
        "id": "KeGeK-pONZ4O"
      },
      "outputs": [],
      "source": [
        "df.info()"
      ]
    },
    {
      "cell_type": "markdown",
      "metadata": {
        "id": "HhcYw958NZ4O"
      },
      "source": [
        "> replace values in a DataFrame's column"
      ]
    },
    {
      "cell_type": "code",
      "execution_count": null,
      "metadata": {
        "id": "22fWl7qoNZ4P"
      },
      "outputs": [],
      "source": [
        "df['town'].unique()"
      ]
    },
    {
      "cell_type": "code",
      "execution_count": null,
      "metadata": {
        "id": "cspyFPl5NZ4P"
      },
      "outputs": [],
      "source": [
        "# Remember to reassigned the revised values into existing column (or a new column)\n",
        "df['town'] = df['town'].replace('ANG MOO KIO', 'ANG MO KIO')"
      ]
    },
    {
      "cell_type": "code",
      "execution_count": null,
      "metadata": {
        "id": "wbZGCCe1NZ4P"
      },
      "outputs": [],
      "source": [
        "df['town'].unique()"
      ]
    },
    {
      "cell_type": "markdown",
      "metadata": {
        "id": "097nYDZtNZ4P"
      },
      "source": [
        "## Aggregating Numbers based on Category"
      ]
    },
    {
      "cell_type": "markdown",
      "metadata": {
        "id": "qIkatepWVIJu"
      },
      "source": [
        "> GroupBy"
      ]
    },
    {
      "cell_type": "code",
      "execution_count": null,
      "metadata": {
        "id": "16JqmZT7VIJu"
      },
      "outputs": [],
      "source": [
        "groupby_town = df.groupby('town')"
      ]
    },
    {
      "cell_type": "code",
      "execution_count": null,
      "metadata": {
        "id": "RtaSERBsVIJv"
      },
      "outputs": [],
      "source": [
        "groupby_town['resale_price'].mean() #mean of numerical values, you can try other Math functions!"
      ]
    },
    {
      "cell_type": "code",
      "execution_count": null,
      "metadata": {
        "id": "Zkzrv0lqNZ4P"
      },
      "outputs": [],
      "source": [
        "groupby_town_flattype = df.groupby(['town','flat_type'])"
      ]
    },
    {
      "cell_type": "code",
      "execution_count": null,
      "metadata": {
        "id": "MKrGzwLZVIJw"
      },
      "outputs": [],
      "source": [
        "groupby_town_flattype['resale_price'].mean()"
      ]
    },
    {
      "cell_type": "markdown",
      "metadata": {
        "id": "gYgaJ9z_NZ4P"
      },
      "source": [
        "> Pivot Table"
      ]
    },
    {
      "cell_type": "code",
      "execution_count": null,
      "metadata": {
        "id": "QEwydNTxNZ4P"
      },
      "outputs": [],
      "source": [
        "df.pivot_table(values='resale_price', index='town', columns='flat_type', aggfunc='mean')"
      ]
    },
    {
      "cell_type": "markdown",
      "metadata": {
        "tags": [],
        "id": "aYFT_RrlNZ4P"
      },
      "source": [
        "## Processing Data with Customized Logics"
      ]
    },
    {
      "cell_type": "markdown",
      "metadata": {
        "id": "x40BMSdqNZ4P"
      },
      "source": [
        "### Involving Values from One Column"
      ]
    },
    {
      "cell_type": "code",
      "execution_count": null,
      "metadata": {
        "id": "mr0jA5jZNZ4T"
      },
      "outputs": [],
      "source": [
        "#Splitting year month\n",
        "def get_year(row): \n",
        "    yearmonth_string = row['Tranc_YearMonth']\n",
        "    year_string = yearmonth_string.split('-')[0]\n",
        "    year_string = int(year_string)\n",
        "    return year_string"
      ]
    },
    {
      "cell_type": "code",
      "execution_count": null,
      "metadata": {
        "id": "tM31cqBGNZ4U"
      },
      "outputs": [],
      "source": [
        "# The apply() method will produce output as a Pandas Series object\n",
        "# Which is similar a column of values\n",
        "# So if we don't assign/store the output, it will just display on Jupyter Notebook\n",
        "# !!!! Always remember to use axis=1\n",
        "df.apply(get_year, axis=1) "
      ]
    },
    {
      "cell_type": "code",
      "execution_count": null,
      "metadata": {
        "id": "WSrtoSaLNZ4U"
      },
      "outputs": [],
      "source": [
        "# Remember to assign the output to a new column (or overwriting the existing column if applicabble)\n",
        "df['Tranc_Year'] = df.apply(get_year, axis=1) "
      ]
    },
    {
      "cell_type": "markdown",
      "metadata": {
        "id": "f32ccrQmNZ4U"
      },
      "source": [
        "### Involving Values from Multple Columns"
      ]
    },
    {
      "cell_type": "code",
      "execution_count": null,
      "metadata": {
        "id": "gFuqvogLNZ4U"
      },
      "outputs": [],
      "source": [
        "#Function for row data\n",
        "def get_hdb_type_model(row):\n",
        "    type_model = row['flat_type'] + ' ' + row['flat_model']\n",
        "    return type_model"
      ]
    },
    {
      "cell_type": "code",
      "execution_count": null,
      "metadata": {
        "id": "jPmypvldNZ4U"
      },
      "outputs": [],
      "source": [
        "df.apply(get_hdb_type_model, axis=1) #applying function to all rows"
      ]
    },
    {
      "cell_type": "code",
      "execution_count": null,
      "metadata": {
        "id": "NImi7zbwNZ4V"
      },
      "outputs": [],
      "source": [
        "df['flat_type_model'] = df.apply(get_hdb_type_model, axis=1) #assign as new column"
      ]
    },
    {
      "cell_type": "markdown",
      "metadata": {
        "id": "V5hhk8H5NZ4V"
      },
      "source": [
        "## Exporting the Processed DataFrame"
      ]
    },
    {
      "cell_type": "code",
      "execution_count": null,
      "metadata": {
        "id": "LH57nqvRNZ4V"
      },
      "outputs": [],
      "source": [
        "output_filepath = 'data/1_processed_data/hdb_resale_sample_processed.csv'\n",
        "\n",
        "# set \"index=False\" to exclude the index being exported as part of the CSV\n",
        "df.to_csv(output_filepath, index=False)"
      ]
    },
    {
      "cell_type": "markdown",
      "metadata": {
        "id": "yKW8TAVPNZ4V"
      },
      "source": [
        "# [OPTIONAL]: Extra Learning"
      ]
    },
    {
      "cell_type": "markdown",
      "metadata": {
        "id": "A2excMSlNZ4V"
      },
      "source": [
        "## Exporting DataFrame as a Static Webpage (HTML File)\n",
        "The **export_dataframe_as_webpage.html** file can be downloaded Google Colab. \n",
        "\n",
        "Then, you can open the file using any browser to view the data table."
      ]
    },
    {
      "cell_type": "code",
      "execution_count": null,
      "metadata": {
        "id": "5fJa7fhHNZ4V"
      },
      "outputs": [],
      "source": [
        "df_temp = df.head(100)\n",
        "df_temp.to_html('data/export_dataframe_as_webpage.html')"
      ]
    },
    {
      "cell_type": "markdown",
      "metadata": {
        "id": "5EOFyAJDNZ4V"
      },
      "source": [
        "\n",
        "<br>\n",
        "\n",
        "---"
      ]
    },
    {
      "cell_type": "markdown",
      "metadata": {
        "id": "VGDoSb6XNZ4V"
      },
      "source": [
        "---"
      ]
    },
    {
      "cell_type": "markdown",
      "metadata": {
        "id": "0v1YwtX4NZ4V"
      },
      "source": [
        "# !! Your Turn !!"
      ]
    },
    {
      "cell_type": "markdown",
      "metadata": {
        "id": "Gh0QUrahNZ4V"
      },
      "source": [
        "## Replace the code marked as <..> or fill the empty cell COMPLETELY with your own code\n",
        "Don't constrained by the <..>, it's just a guide. Feel free to insert more lines of code.\n",
        "Or using less lines of code is also fine."
      ]
    },
    {
      "cell_type": "markdown",
      "metadata": {
        "id": "eB5f54ysNZ4V"
      },
      "source": [
        "<br>\n",
        "\n",
        "---"
      ]
    },
    {
      "cell_type": "markdown",
      "metadata": {
        "id": "DBb0wZwXNZ4V"
      },
      "source": [
        "# Question 1 \n",
        "A) Read hdb_resale_full_raw.csv into pandas and named it <b>df</b> <br/>"
      ]
    },
    {
      "cell_type": "code",
      "execution_count": null,
      "metadata": {
        "id": "iPiLGrLfNZ4W"
      },
      "outputs": [],
      "source": [
        "df = <..>"
      ]
    },
    {
      "cell_type": "markdown",
      "metadata": {
        "id": "iuwnaiqINZ4W"
      },
      "source": [
        "<br>\n",
        "B) Find out which column(s) has records with missing values\n",
        "\n",
        "💡 Hint: use info() or any other methods"
      ]
    },
    {
      "cell_type": "code",
      "execution_count": null,
      "metadata": {
        "id": "3GeX2VtaNZ4W"
      },
      "outputs": [],
      "source": []
    },
    {
      "cell_type": "markdown",
      "metadata": {
        "id": "7FfJuiUdNZ4W"
      },
      "source": [
        "<br>\n",
        "\n",
        "---"
      ]
    },
    {
      "cell_type": "markdown",
      "metadata": {
        "id": "Y06OcpXFNZ4W"
      },
      "source": [
        "# Question 2"
      ]
    },
    {
      "cell_type": "markdown",
      "metadata": {
        "id": "B4xpnhWXNZ4W"
      },
      "source": [
        "<br>"
      ]
    },
    {
      "cell_type": "markdown",
      "metadata": {
        "tags": [],
        "id": "WCes23BpNZ4W"
      },
      "source": [
        "A) Let's examine the **Tranc_YearMonth column** by listing the all unique values in the dataset <br/>"
      ]
    },
    {
      "cell_type": "code",
      "execution_count": null,
      "metadata": {
        "scrolled": true,
        "id": "k6wJ5dSANZ4W"
      },
      "outputs": [],
      "source": []
    },
    {
      "cell_type": "markdown",
      "metadata": {
        "id": "C9AhRgmMNZ4W"
      },
      "source": [
        "<br>\n",
        "\n",
        "B) You are being informed that the records are ordered from the **earliest** to the **latest** transactions.\\\n",
        "Use this information to fill the missing values in the **Tranc_YearMonth** column. \\\n",
        "⚠️ Note: Remember to assign the values back to the column"
      ]
    },
    {
      "cell_type": "code",
      "execution_count": null,
      "metadata": {
        "id": "0h57bJ5hNZ4W"
      },
      "outputs": [],
      "source": []
    },
    {
      "cell_type": "markdown",
      "metadata": {
        "id": "hiccFwmKNZ4W"
      },
      "source": [
        "---"
      ]
    },
    {
      "cell_type": "markdown",
      "metadata": {
        "id": "fi4n6I5sNZ4W"
      },
      "source": [
        "<br>\n",
        "\n",
        "B) You are also being informed there are typos for same values in **flat_type** column due to some errors.\\\n",
        "There are \"3 ROOM\" and \"3 ROOMS\". **Correct the typos**.\n",
        "\n",
        "💡 # Hint: Use .replace() or any other methods\n",
        "\n",
        "⚠️ Note: Ignore the missing values in this column for now."
      ]
    },
    {
      "cell_type": "code",
      "execution_count": null,
      "metadata": {
        "id": "UhfbOi8_NZ4W"
      },
      "outputs": [],
      "source": []
    },
    {
      "cell_type": "code",
      "execution_count": null,
      "metadata": {
        "id": "5-TW1g3_NZ4W"
      },
      "outputs": [],
      "source": []
    },
    {
      "cell_type": "markdown",
      "metadata": {
        "id": "InLtTeMiNZ4X"
      },
      "source": [
        "<br>\n",
        "\n",
        "---"
      ]
    },
    {
      "cell_type": "markdown",
      "metadata": {
        "tags": [],
        "id": "LnrhNHRrNZ4X"
      },
      "source": [
        "# Question 3"
      ]
    },
    {
      "cell_type": "markdown",
      "metadata": {
        "tags": [],
        "id": "uJ8gBJ6lNZ4X"
      },
      "source": [
        "A) Retrieve all the transactions for **4-room flats** from **Clementi** and\\\n",
        "the records must be in the order which the **latest transactions are at the top of the DataFrame**.\\\n",
        "Note: There is no need to store the final output. Just display in Jupyter Notebook."
      ]
    },
    {
      "cell_type": "code",
      "execution_count": null,
      "metadata": {
        "id": "U8t38BhbNZ4X"
      },
      "outputs": [],
      "source": [
        "df_temp = <..>\n",
        "df_temp.<..>"
      ]
    },
    {
      "cell_type": "markdown",
      "metadata": {
        "id": "xJdMEdj2NZ4X"
      },
      "source": [
        "<br>\n",
        "\n",
        "---"
      ]
    },
    {
      "cell_type": "markdown",
      "metadata": {
        "id": "XSmvrTWMNZ4X"
      },
      "source": [
        "B) Sort the records in the **df**, which the records are ordered by:\n",
        "1. Lease Commence Year (Newest to Oldest)\n",
        "2. Transaction Year (Newest to Oldest)\n",
        "3. Town (In alphabetical order)\n",
        "4. Flat Type (In alphabetical order)\n",
        "5. Resale Price (Lowest to Highest Price)\n",
        "\n",
        "Note: There is no need to store the final output. Just display in Jupyter Notebook.\n",
        "\n",
        "Your DataFrame should look something like this.\\\n",
        "![](https://i.imgur.com/d5Vfff1.jpeg)"
      ]
    },
    {
      "cell_type": "code",
      "execution_count": null,
      "metadata": {
        "id": "FWabfivbNZ4X"
      },
      "outputs": [],
      "source": []
    },
    {
      "cell_type": "markdown",
      "metadata": {
        "id": "YZ7MdtZXNZ4X"
      },
      "source": [
        "<br>\n",
        "\n",
        "---"
      ]
    },
    {
      "cell_type": "markdown",
      "metadata": {
        "tags": [],
        "id": "XJl-9nR1NZ4X"
      },
      "source": [
        "# Question 4\n",
        "A) Find out the highest resale price value for 4-ROOM flat across all the towns.\\\n",
        "To simplify this, assume the calculation is\n",
        "- based on the resale price only\n",
        "- regardless of the age of the flats\n",
        "\n",
        "Note: Just display the resale price in Jupyter Notebook"
      ]
    },
    {
      "cell_type": "code",
      "execution_count": null,
      "metadata": {
        "id": "SY-3WW-xNZ4X"
      },
      "outputs": [],
      "source": [
        "df[<..>].resale_price.<..>"
      ]
    },
    {
      "cell_type": "markdown",
      "metadata": {
        "id": "GkJ245CMNZ4X"
      },
      "source": [
        "<br>\n",
        "\n",
        "B) Display the record for the transactio from A) above\n",
        "\n",
        "The output should look something like this:\\\n",
        "![](https://i.imgur.com/CelHZd0.jpeg)"
      ]
    },
    {
      "cell_type": "code",
      "execution_count": null,
      "metadata": {
        "id": "1CC6HneINZ4X"
      },
      "outputs": [],
      "source": [
        "highest_resale_price = <..>\n",
        "\n",
        "df[<..>]"
      ]
    },
    {
      "cell_type": "markdown",
      "metadata": {
        "id": "7J0utaR5NZ4X"
      },
      "source": [
        "<br>\n",
        "   \n",
        "C) Find out the what is the highest price for the different **Flat Types**\n",
        "\n",
        "💡Hint: use .groupby() method\\\n",
        "Note: Just display the resale price in Jupyter Notebook"
      ]
    },
    {
      "cell_type": "code",
      "execution_count": null,
      "metadata": {
        "id": "HVfHZEWrNZ4X"
      },
      "outputs": [],
      "source": [
        "groupby_flattype = <..>\n",
        "groupby_flattype.<..>"
      ]
    },
    {
      "cell_type": "markdown",
      "metadata": {
        "id": "v3Nk4oYtNZ4X"
      },
      "source": [
        "<br>\n",
        "D) For each of the towns, find out what is the highest resale price for the different Flat Types.\n",
        "\n",
        "Store the result in new DataFrame, called **df_highest_price**.\n",
        "\n",
        "💡Hint: You might need .reset_index() to convert the result into a typical DataFrame"
      ]
    },
    {
      "cell_type": "code",
      "execution_count": null,
      "metadata": {
        "id": "fX9_RxXMNZ4Y"
      },
      "outputs": [],
      "source": [
        "groupby_town_flattype = <..>\n",
        "<..>\n",
        "<..>"
      ]
    },
    {
      "cell_type": "code",
      "execution_count": null,
      "metadata": {
        "id": "pMbZeQq7NZ4Y"
      },
      "outputs": [],
      "source": [
        "# No need to modify this cell. Just execute.\n",
        "# if above codes are correct, this should return \"True\"\n",
        "# The idea is that if the groupby result is in DataFrame, then we can use the data easily\n",
        "type(df_highest_price) == pd.core.frame.DataFrame"
      ]
    },
    {
      "cell_type": "code",
      "execution_count": null,
      "metadata": {
        "id": "4s2VPrW5NZ4Y"
      },
      "outputs": [],
      "source": [
        "# No need to modify this cell. Just execute.\n",
        "# Display the result\n",
        "df_highest_price"
      ]
    },
    {
      "cell_type": "markdown",
      "metadata": {
        "id": "ar8zi_zeNZ4Y"
      },
      "source": [
        "---"
      ]
    },
    {
      "cell_type": "markdown",
      "metadata": {
        "id": "okmsr3VONZ4Y"
      },
      "source": [
        "# Question 5"
      ]
    },
    {
      "cell_type": "markdown",
      "metadata": {
        "id": "eOQxAfY-NZ4Y"
      },
      "source": [
        "A) Find the **number of transactions** which **resale price** is **less than $500,000** for each town. \\\n",
        "**<u>Optional</u>**: Display the result, with the **town with most number of transaction first row** and the **town with least number of transaction as the last row**.\n",
        "<br/>\n",
        "\n",
        "💡 Hint: There is an aggregation method for the groupby object, called **.count()&** and **.size()**.\\\n",
        "You may look up for more information on how use these two methods."
      ]
    },
    {
      "cell_type": "code",
      "execution_count": null,
      "metadata": {
        "id": "S9pWyz-rNZ4Y"
      },
      "outputs": [],
      "source": [
        "df_temp = <..>\n",
        "\n",
        "<..>\n",
        "\n",
        "<..>"
      ]
    },
    {
      "cell_type": "markdown",
      "metadata": {
        "id": "n3C_Hc9pNZ4Y"
      },
      "source": [
        "B) Based on the transactions where the  **resale price** is **less than $500,000**,\\\n",
        "generate a pivot table to show the **median** **resale price** for the different **flat types** from each of the towns.\n",
        "\n",
        "The output looks something like this:\\\n",
        "![](https://i.imgur.com/sqMDjeP.jpeg)"
      ]
    },
    {
      "cell_type": "code",
      "execution_count": null,
      "metadata": {
        "id": "gjT60wfvNZ4Y"
      },
      "outputs": [],
      "source": [
        "df_temp = <..>\n",
        "\n",
        "df_temp.<..>\n"
      ]
    },
    {
      "cell_type": "markdown",
      "metadata": {
        "id": "28KoIM54NZ4Y"
      },
      "source": [
        "---"
      ]
    },
    {
      "cell_type": "markdown",
      "metadata": {
        "id": "gDQhOXMyNZ4Y"
      },
      "source": [
        "# Question 6"
      ]
    },
    {
      "cell_type": "markdown",
      "metadata": {
        "id": "e3qyarzPNZ4Y"
      },
      "source": [
        "<br>\n",
        "\n",
        "A) Create a new column **storey_midpoint** to store the middle value of the **storey_range**.\\\n",
        "For example, if the **storey_range** is '05 to 07\", it should will be 6 (as an Integer).\n",
        "\n",
        "\n",
        "💡Hint: use apply() method and you will need to define a function to be used with the apply() method.\n"
      ]
    },
    {
      "cell_type": "code",
      "execution_count": null,
      "metadata": {
        "id": "WludjzcwNZ4Y"
      },
      "outputs": [],
      "source": [
        "def get_mid_storey(row):\n",
        "    top = <..>\n",
        "    bottom = <..>\n",
        "    mid = <..>\n",
        "    return <..>\n"
      ]
    },
    {
      "cell_type": "code",
      "execution_count": null,
      "metadata": {
        "id": "A9Hc85LMNZ4Y"
      },
      "outputs": [],
      "source": [
        "df['storey_midpoint'] = df.<..>"
      ]
    },
    {
      "cell_type": "markdown",
      "metadata": {
        "id": "XY1ZBaOPNZ4Y"
      },
      "source": [
        "<br>\n",
        "\n",
        "B) Create a new column **address** to that combine the **block number** and the **street name**.\\\n",
        "For example: the address for the first row is \"172, ANG MO KIO AVE 4\".\n"
      ]
    },
    {
      "cell_type": "code",
      "execution_count": null,
      "metadata": {
        "id": "NdmlKmwqNZ4Y"
      },
      "outputs": [],
      "source": [
        "def get_lower_letters(row):\n",
        "    <..>\n"
      ]
    },
    {
      "cell_type": "code",
      "execution_count": null,
      "metadata": {
        "id": "eGPUNV-fNZ4Y"
      },
      "outputs": [],
      "source": [
        "<..>"
      ]
    },
    {
      "cell_type": "markdown",
      "metadata": {
        "id": "Lzs3vzmRNZ4Z"
      },
      "source": [
        "<br>\n",
        "\n",
        "C) There are some missing values in the **flat_type** model.\\\n",
        "After confirming with the domain/business users, there are only 2 possibilities:\n",
        "\n",
        "- if the floor_area_sqm is **at least 110 squared meters** then it's 5-room flat\n",
        "- **otherwise** it's 4-room flat\n",
        "\n",
        "you requested to use the following logics to fill up the missing values:\\\n",
        "hint: \n",
        "- you can use the .apply() method or any other approaches. \n",
        "- you will also need to check if the value is missing\n",
        "\n",
        "Note: This is simplified logic solely for practice purpose"
      ]
    },
    {
      "cell_type": "code",
      "execution_count": null,
      "metadata": {
        "id": "HrfJR-lFNZ4Z"
      },
      "outputs": [],
      "source": [
        "def fill_missing_flat_type(row):\n",
        "    value_to_return = '' #empty string\n",
        "    \n",
        "    # Checking if the value in this column is missing\n",
        "    if pd.isna(row['flat_type']):\n",
        "        <..>\n",
        "        <..>\n",
        "    <..>\n",
        "        <..>\n",
        "    \n",
        "        \n",
        "    return value_to_return"
      ]
    },
    {
      "cell_type": "code",
      "execution_count": null,
      "metadata": {
        "id": "pI33hOa1NZ4Z"
      },
      "outputs": [],
      "source": [
        "<..>"
      ]
    },
    {
      "cell_type": "markdown",
      "metadata": {
        "tags": [],
        "id": "Ky_xlUeINZ4Z"
      },
      "source": [
        "# Exporting the Processed Data\n",
        "Save the processed df in **1_processed_data** folder as <b>hdb_resale_full_processed.csv</b> <br/>"
      ]
    },
    {
      "cell_type": "code",
      "execution_count": null,
      "metadata": {
        "id": "bSJ9-KrsNZ4Z"
      },
      "outputs": [],
      "source": [
        "<..>"
      ]
    },
    {
      "cell_type": "code",
      "execution_count": null,
      "metadata": {
        "id": "c71v1M50NZ4Z"
      },
      "outputs": [],
      "source": []
    }
  ],
  "metadata": {
    "colab": {
      "provenance": []
    },
    "kernelspec": {
      "display_name": "Python 3 (ipykernel)",
      "language": "python",
      "name": "python3"
    },
    "language_info": {
      "codemirror_mode": {
        "name": "ipython",
        "version": 3
      },
      "file_extension": ".py",
      "mimetype": "text/x-python",
      "name": "python",
      "nbconvert_exporter": "python",
      "pygments_lexer": "ipython3",
      "version": "3.9.7"
    }
  },
  "nbformat": 4,
  "nbformat_minor": 0
}